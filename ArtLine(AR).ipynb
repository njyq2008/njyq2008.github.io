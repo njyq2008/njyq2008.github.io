{
  "nbformat": 4,
  "nbformat_minor": 0,
  "metadata": {
    "colab": {
      "name": "ArtLine(AR).ipynb",
      "provenance": [],
      "include_colab_link": true
    },
    "kernelspec": {
      "name": "python3",
      "display_name": "Python 3"
    },
    "accelerator": "GPU"
  },
  "cells": [
    {
      "cell_type": "markdown",
      "metadata": {
        "id": "view-in-github",
        "colab_type": "text"
      },
      "source": [
        "<a href=\"https://colab.research.google.com/github/njyq2008/njyq2008.github.io/blob/master/ArtLine(AR).ipynb\" target=\"_parent\"><img src=\"https://colab.research.google.com/assets/colab-badge.svg\" alt=\"Open In Colab\"/></a>"
      ]
    },
    {
      "cell_type": "markdown",
      "metadata": {
        "id": "Hq3gvFEqmLvG"
      },
      "source": [
        "# **ArtLine**\n",
        "**Create** **Amazing** **Line** **Art**."
      ]
    },
    {
      "cell_type": "code",
      "metadata": {
        "id": "IPyB9hb8mPC8",
        "outputId": "2a4c8e22-fd35-4c79-ec67-d16d3c6643ce",
        "colab": {
          "base_uri": "https://localhost:8080/"
        }
      },
      "source": [
        "!git clone https://github.com/vijishmadhavan/ArtLine.git ArtLine"
      ],
      "execution_count": 6,
      "outputs": [
        {
          "output_type": "stream",
          "name": "stdout",
          "text": [
            "Cloning into 'ArtLine'...\n",
            "remote: Enumerating objects: 546, done.\u001b[K\n",
            "remote: Counting objects: 100% (67/67), done.\u001b[K\n",
            "remote: Compressing objects: 100% (46/46), done.\u001b[K\n",
            "remote: Total 546 (delta 39), reused 45 (delta 20), pack-reused 479 (from 1)\u001b[K\n",
            "Receiving objects: 100% (546/546), 1.05 MiB | 3.33 MiB/s, done.\n",
            "Resolving deltas: 100% (286/286), done.\n"
          ]
        }
      ]
    },
    {
      "cell_type": "code",
      "metadata": {
        "id": "4hmPeTa0mRhA",
        "outputId": "abb58316-7c6f-4b97-b019-1c33ff2af1dd",
        "colab": {
          "base_uri": "https://localhost:8080/"
        }
      },
      "source": [
        "cd ArtLine"
      ],
      "execution_count": 7,
      "outputs": [
        {
          "output_type": "stream",
          "name": "stdout",
          "text": [
            "/content/ArtLine/ArtLine\n"
          ]
        }
      ]
    },
    {
      "cell_type": "code",
      "metadata": {
        "id": "HVHkL8wQmURk",
        "outputId": "5260eb32-ca5d-4a5e-e9b0-4e769e522679",
        "colab": {
          "base_uri": "https://localhost:8080/"
        }
      },
      "source": [
        "!pip install -r colab_requirements.txt"
      ],
      "execution_count": 8,
      "outputs": [
        {
          "output_type": "stream",
          "name": "stdout",
          "text": [
            "Collecting fastai==1.0.61 (from -r colab_requirements.txt (line 1))\n",
            "  Using cached fastai-1.0.61-py3-none-any.whl.metadata (14 kB)\n",
            "Collecting numpy==1.17.2 (from -r colab_requirements.txt (line 2))\n",
            "  Using cached numpy-1.17.2.zip (6.5 MB)\n",
            "  Preparing metadata (setup.py) ... \u001b[?25l\u001b[?25hdone\n",
            "Collecting pandas==1.1.2 (from -r colab_requirements.txt (line 3))\n",
            "  Using cached pandas-1.1.2.tar.gz (5.2 MB)\n",
            "  \u001b[1;31merror\u001b[0m: \u001b[1msubprocess-exited-with-error\u001b[0m\n",
            "  \n",
            "  \u001b[31m×\u001b[0m \u001b[32mpip subprocess to install build dependencies\u001b[0m did not run successfully.\n",
            "  \u001b[31m│\u001b[0m exit code: \u001b[1;36m1\u001b[0m\n",
            "  \u001b[31m╰─>\u001b[0m See above for output.\n",
            "  \n",
            "  \u001b[1;35mnote\u001b[0m: This error originates from a subprocess, and is likely not a problem with pip.\n",
            "  Installing build dependencies ... \u001b[?25l\u001b[?25herror\n",
            "\u001b[1;31merror\u001b[0m: \u001b[1msubprocess-exited-with-error\u001b[0m\n",
            "\n",
            "\u001b[31m×\u001b[0m \u001b[32mpip subprocess to install build dependencies\u001b[0m did not run successfully.\n",
            "\u001b[31m│\u001b[0m exit code: \u001b[1;36m1\u001b[0m\n",
            "\u001b[31m╰─>\u001b[0m See above for output.\n",
            "\n",
            "\u001b[1;35mnote\u001b[0m: This error originates from a subprocess, and is likely not a problem with pip.\n"
          ]
        }
      ]
    },
    {
      "cell_type": "markdown",
      "metadata": {
        "id": "mC7faka5mXdz"
      },
      "source": [
        "# **Runtime**\n",
        "\n",
        "* Hardware Accelerator = GPU"
      ]
    },
    {
      "cell_type": "code",
      "metadata": {
        "id": "lY9UYezmmX77",
        "outputId": "55be777d-9f84-4841-9a0b-d347a0e1a347",
        "colab": {
          "base_uri": "https://localhost:8080/",
          "height": 385
        }
      },
      "source": [
        "import fastai\n",
        "from fastai.vision import *\n",
        "from fastai.utils.mem import *\n",
        "from fastai.vision import open_image, load_learner, image, torch\n",
        "import numpy as np\n",
        "import urllib.request\n",
        "import PIL.Image\n",
        "from io import BytesIO\n",
        "import torchvision.transforms as T\n",
        "from PIL import Image\n",
        "import requests\n",
        "from io import BytesIO\n",
        "import fastai\n",
        "from fastai.vision import *\n",
        "from fastai.utils.mem import *\n",
        "from fastai.vision import open_image, load_learner, image, torch\n",
        "import numpy as np\n",
        "import urllib.request\n",
        "import PIL.Image\n",
        "from PIL import Image\n",
        "from io import BytesIO\n",
        "import torchvision.transforms as T\n",
        "\n",
        "class FeatureLoss(nn.Module):\n",
        "    def __init__(self, m_feat, layer_ids, layer_wgts):\n",
        "        super().__init__()\n",
        "        self.m_feat = m_feat\n",
        "        self.loss_features = [self.m_feat[i] for i in layer_ids]\n",
        "        self.hooks = hook_outputs(self.loss_features, detach=False)\n",
        "        self.wgts = layer_wgts\n",
        "        self.metric_names = ['pixel',] + [f'feat_{i}' for i in range(len(layer_ids))\n",
        "              ] + [f'gram_{i}' for i in range(len(layer_ids))]\n",
        "\n",
        "    def make_features(self, x, clone=False):\n",
        "        self.m_feat(x)\n",
        "        return [(o.clone() if clone else o) for o in self.hooks.stored]\n",
        "\n",
        "    def forward(self, input, target):\n",
        "        out_feat = self.make_features(target, clone=True)\n",
        "        in_feat = self.make_features(input)\n",
        "        self.feat_losses = [base_loss(input,target)]\n",
        "        self.feat_losses += [base_loss(f_in, f_out)*w\n",
        "                             for f_in, f_out, w in zip(in_feat, out_feat, self.wgts)]\n",
        "        self.feat_losses += [base_loss(gram_matrix(f_in), gram_matrix(f_out))*w**2 * 5e3\n",
        "                             for f_in, f_out, w in zip(in_feat, out_feat, self.wgts)]\n",
        "        self.metrics = dict(zip(self.metric_names, self.feat_losses))\n",
        "        return sum(self.feat_losses)\n",
        "\n",
        "    def __del__(self): self.hooks.remove()\n",
        "\n",
        "def add_margin(pil_img, top, right, bottom, left, color):\n",
        "    width, height = pil_img.size\n",
        "    new_width = width + right + left\n",
        "    new_height = height + top + bottom\n",
        "    result = Image.new(pil_img.mode, (new_width, new_height), color)\n",
        "    result.paste(pil_img, (left, top))\n",
        "    return result"
      ],
      "execution_count": 9,
      "outputs": [
        {
          "output_type": "error",
          "ename": "ModuleNotFoundError",
          "evalue": "No module named 'fastai.utils'",
          "traceback": [
            "\u001b[0;31m---------------------------------------------------------------------------\u001b[0m",
            "\u001b[0;31mModuleNotFoundError\u001b[0m                       Traceback (most recent call last)",
            "\u001b[0;32m<ipython-input-9-2b719912af63>\u001b[0m in \u001b[0;36m<cell line: 3>\u001b[0;34m()\u001b[0m\n\u001b[1;32m      1\u001b[0m \u001b[0;32mimport\u001b[0m \u001b[0mfastai\u001b[0m\u001b[0;34m\u001b[0m\u001b[0;34m\u001b[0m\u001b[0m\n\u001b[1;32m      2\u001b[0m \u001b[0;32mfrom\u001b[0m \u001b[0mfastai\u001b[0m\u001b[0;34m.\u001b[0m\u001b[0mvision\u001b[0m \u001b[0;32mimport\u001b[0m \u001b[0;34m*\u001b[0m\u001b[0;34m\u001b[0m\u001b[0;34m\u001b[0m\u001b[0m\n\u001b[0;32m----> 3\u001b[0;31m \u001b[0;32mfrom\u001b[0m \u001b[0mfastai\u001b[0m\u001b[0;34m.\u001b[0m\u001b[0mutils\u001b[0m\u001b[0;34m.\u001b[0m\u001b[0mmem\u001b[0m \u001b[0;32mimport\u001b[0m \u001b[0;34m*\u001b[0m\u001b[0;34m\u001b[0m\u001b[0;34m\u001b[0m\u001b[0m\n\u001b[0m\u001b[1;32m      4\u001b[0m \u001b[0;32mfrom\u001b[0m \u001b[0mfastai\u001b[0m\u001b[0;34m.\u001b[0m\u001b[0mvision\u001b[0m \u001b[0;32mimport\u001b[0m \u001b[0mopen_image\u001b[0m\u001b[0;34m,\u001b[0m \u001b[0mload_learner\u001b[0m\u001b[0;34m,\u001b[0m \u001b[0mimage\u001b[0m\u001b[0;34m,\u001b[0m \u001b[0mtorch\u001b[0m\u001b[0;34m\u001b[0m\u001b[0;34m\u001b[0m\u001b[0m\n\u001b[1;32m      5\u001b[0m \u001b[0;32mimport\u001b[0m \u001b[0mnumpy\u001b[0m \u001b[0;32mas\u001b[0m \u001b[0mnp\u001b[0m\u001b[0;34m\u001b[0m\u001b[0;34m\u001b[0m\u001b[0m\n",
            "\u001b[0;31mModuleNotFoundError\u001b[0m: No module named 'fastai.utils'",
            "",
            "\u001b[0;31m---------------------------------------------------------------------------\u001b[0;32m\nNOTE: If your import is failing due to a missing package, you can\nmanually install dependencies using either !pip or !apt.\n\nTo view examples of installing some common dependencies, click the\n\"Open Examples\" button below.\n\u001b[0;31m---------------------------------------------------------------------------\u001b[0m\n"
          ],
          "errorDetails": {
            "actions": [
              {
                "action": "open_url",
                "actionText": "Open Examples",
                "url": "/notebooks/snippets/importing_libraries.ipynb"
              }
            ]
          }
        }
      ]
    },
    {
      "cell_type": "code",
      "metadata": {
        "id": "zAYxpVUTmeSZ"
      },
      "source": [
        "MODEL_URL = \"https://www.dropbox.com/s/04suaimdpru76h3/ArtLine_920.pkl?dl=1 \"\n",
        "urllib.request.urlretrieve(MODEL_URL, \"ArtLine_920.pkl\")\n",
        "path = Path(\".\")\n",
        "learn=load_learner(path, 'ArtLine_920.pkl')"
      ],
      "execution_count": null,
      "outputs": []
    },
    {
      "cell_type": "markdown",
      "metadata": {
        "id": "PXl3Wg_BmlSe"
      },
      "source": [
        "# **URL**\n",
        "Type in a url to a direct link of an **high quality image**. Usually that means they'll end in .png, .jpg, etc.\n",
        "\n",
        "**Note** : Works well with **portrait photos having good lighting and plain background**. But you're free to explore."
      ]
    },
    {
      "cell_type": "markdown",
      "metadata": {
        "id": "vE6yNVqwmqSJ"
      },
      "source": [
        "Link to high-quality portrait pics. Click on the image, let it expand and then copy image address.\n",
        "\n",
        "https://www.freepik.com/search?dates=any&format=search&from_query=Portrait&page=1&query=Portrait&sort=popular&type=photo"
      ]
    },
    {
      "cell_type": "code",
      "metadata": {
        "cellView": "form",
        "id": "Vtr_uW91mpgl"
      },
      "source": [
        "url = 'https://filmspell.com/wp-content/uploads/2019/12/ford-ferrari-anatomy-promo-videoSixteenByNine1050-990x556.jpg' #@param {type:\"string\"}\n",
        "\n",
        "response = requests.get(url)\n",
        "img = PIL.Image.open(BytesIO(response.content)).convert(\"RGB\")\n",
        "im_new = add_margin(img, 250, 250, 250, 250, (255, 255, 255))\n",
        "im_new.save(\"test.jpg\", quality=95)\n",
        "img = open_image(\"test.jpg\")\n",
        "show_image(img, figsize=(10,10), interpolation='nearest');"
      ],
      "execution_count": null,
      "outputs": []
    },
    {
      "cell_type": "code",
      "metadata": {
        "id": "1WfxvLQpoIfF"
      },
      "source": [
        "p,img_hr,b = learn.predict(img)\n",
        "show_image(img_hr, figsize=(9,9), interpolation='nearest');"
      ],
      "execution_count": null,
      "outputs": []
    },
    {
      "cell_type": "markdown",
      "metadata": {
        "id": "3rsaOVrxYyyJ"
      },
      "source": [
        "# **Recommended image sources**"
      ]
    },
    {
      "cell_type": "markdown",
      "metadata": {
        "id": "_Hv8aWo5Y1zX"
      },
      "source": [
        "https://www.freepik.com/search?dates=any&format=search&from_query=Portrait&page=1&query=Portrait&sort=popular&type=photo\n",
        "\n",
        "https://www.pexels.com/search/portrait%20man/\n",
        "\n",
        "https://www.flickr.com/search/?user_id=37277626%40N07&sort=date-taken-desc&safe_search=1&view_all=1&tags=portrait\n"
      ]
    }
  ]
}